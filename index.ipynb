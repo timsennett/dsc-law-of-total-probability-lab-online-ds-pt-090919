{
 "cells": [
  {
   "cell_type": "markdown",
   "metadata": {},
   "source": [
    "# Partitioning and Law of Total Probability - Lab\n",
    "\n",
    "## Introduction \n",
    "In this lab, you'll practice your knowledge of the law of total probability. In probability theory, the law (or formula) of total probability is a fundamental rule relating **marginal probabilities** to **conditional probabilities**.\n",
    "\n",
    "## Objectives\n",
    "\n",
    "You will be able to:\n",
    "\n",
    "* Differentiate between independent and dependent events\n",
    "* Perform partitioning based on known and unknown probabilities to solve a problem"
   ]
  },
  {
   "cell_type": "markdown",
   "metadata": {},
   "source": [
    "## Exercise 1\n",
    "Imagine you have two hats: one has 4 red balls and 6 green balls, the other has 6 red and 4 green. We toss a fair coin, if heads, you will pick a random ball from the first hat, if tails you will pick one from the second hat. \n",
    "\n",
    "What is the probability of getting a red ball?"
   ]
  },
  {
   "cell_type": "code",
   "execution_count": 2,
   "metadata": {},
   "outputs": [
    {
     "data": {
      "text/plain": [
       "0.5"
      ]
     },
     "execution_count": 2,
     "metadata": {},
     "output_type": "execute_result"
    }
   ],
   "source": [
    "red = (.4 * .5) + (.6 * .5)\n",
    "red\n",
    "\n",
    "# .5 represents coin flip"
   ]
  },
  {
   "cell_type": "markdown",
   "metadata": {},
   "source": [
    "## Exercise 2\n",
    "In games where at least one goal is made, a soccer team wins 60% of its games when it scores the first goal, and 10% of its games when the opposing team \n",
    "scores first. \n",
    "\n",
    "If the team scores the first goal about 30% of the time, what fraction of the games does it win?"
   ]
  },
  {
   "cell_type": "code",
   "execution_count": 3,
   "metadata": {},
   "outputs": [
    {
     "data": {
      "text/plain": [
       "0.25"
      ]
     },
     "execution_count": 3,
     "metadata": {},
     "output_type": "execute_result"
    }
   ],
   "source": [
    "WP = (6/10 * 3/10) + (1/10 * 7/10)\n",
    "WP\n",
    "\n",
    "# 7/10 is the complement of 30%"
   ]
  },
  {
   "cell_type": "markdown",
   "metadata": {},
   "source": [
    "## Exercise 3"
   ]
  },
  {
   "cell_type": "markdown",
   "metadata": {},
   "source": [
    "In Europe, except for regular gas, cars often run on diesel as well. At a gas station in Paris; \n",
    "\n",
    "\n",
    "* 40% of the customers fill up with diesel (event G1) \n",
    "* 35% with gas \"Super 95\" (event G2)\n",
    "* 25% with gas \"Super 98\" (event G3). \n",
    "\n",
    "\n",
    "* 30% of the customers who buy diesel fill their tank completely (event F). \n",
    "* For \"Super 95\" and \"Super 98\", these numbers are  60% and 50%, respectively.\n",
    "\n",
    "\n",
    "- Compute the probability that the next customer completely fills their tank and buys Super 95. \n",
    "- Compute the probability that the next customer completely fills their tank\n",
    "- Given that the next customer fills their tank completely, compute the probability that they bought diesel. \n",
    "\n",
    "Hint: Consult the theorems for conditional probability, check for dependence or independence of events"
   ]
  },
  {
   "cell_type": "code",
   "execution_count": 16,
   "metadata": {},
   "outputs": [
    {
     "name": "stdout",
     "output_type": "stream",
     "text": [
      "0.21000000000000002\n",
      "0.45499999999999996\n",
      "0.26373626373626374\n"
     ]
    }
   ],
   "source": [
    "G1 = 4/10\n",
    "G2 = 3.5/10\n",
    "G3 = 2.5/10\n",
    "\n",
    "F1 = (3/10)\n",
    "F2 = (6/10)\n",
    "F3 = (5/10)\n",
    "\n",
    "Customer1 = 6/10 * 3.5/10 # 6/10ths of Super95 customers fill their tank.\n",
    "print(Customer1)          # 3.5/10 of all customers buy Super95\n",
    "\n",
    "\n",
    "Customer2 = (G1 * F1) + (F2 * G2) + (F3 * G3)\n",
    "print(Customer2)\n",
    "\n",
    "Customer3 = .4*.3 / Customer2 # .4 of customers buy diesel, and .3 of those customers fill their tank\n",
    "                              # .455 of customers (Customer2) overall fill their tank.\n",
    "print(Customer3)"
   ]
  },
  {
   "cell_type": "markdown",
   "metadata": {},
   "source": [
    "## Exercise 4"
   ]
  },
  {
   "cell_type": "markdown",
   "metadata": {},
   "source": [
    "United Airlines operates flights from JFK to Amsterdam, to Brussels, and to Copenhagen. As you may know, flights are overbooked fairly often. Let's denote the probability of the flight to Amsterdam being overbooked equal to 40%, the probability of the flight to Brussels being overbooked equal to 25%, and the probability of the flight to Copenhagen being overbooked equal to 35%. You can assume that these events of overbooking are independent events."
   ]
  },
  {
   "cell_type": "markdown",
   "metadata": {},
   "source": [
    "- Compute the probability that all the flights are overbooked.\n",
    "- Compute the probability of having at least one flight which is not overbooked.\n",
    "- Compute the probability that exactly one flight is overbooked."
   ]
  },
  {
   "cell_type": "code",
   "execution_count": 26,
   "metadata": {},
   "outputs": [
    {
     "name": "stdout",
     "output_type": "stream",
     "text": [
      "0.034999999999999996\n",
      "0.965\n",
      "0.45000000000000007\n"
     ]
    }
   ],
   "source": [
    "A = .40\n",
    "B = .25\n",
    "C = .35\n",
    "\n",
    "all_overbooked = A*B*C\n",
    "at_least_one_not_overbooked = 1 - all_overbooked # 1 is the sample space, so 1 minus the chance that all are\n",
    "                                                 # overbooked is the chance that at least one isn't overbooked.\n",
    "                                                 # In effect I'm taking away any chance that they're all overbooked.\n",
    "                                                 # Meaning at least one must not be overbooked.\n",
    "            \n",
    "one_amsterdam = A * (1-B) * (1-C)  # chance that only the amsterdam flight is overbooked\n",
    "one_brussels = B * (1-A) * (1-C)   # chance that only the brussels flight is overbooked\n",
    "one_copenhagen = C * (1-A) * (1-B) # chance that only the copenhagen flight is overbooked\n",
    "\n",
    "one_flight_overbooked = one_amsterdam + one_brussels + one_copenhagen # each of these is mutually exclusive\n",
    "                                                                      # The probability of multiple mutually exclusive events\n",
    "                                                                      # is the sum of the probability of each of those events.\n",
    "                                                                      # Eg the chance that a batter hits a double or a triple\n",
    "                                                                      # is chance_of_double plus chance_of_triple\n",
    "\n",
    "print(all_overbooked)\n",
    "print(at_least_one_not_overbooked)\n",
    "print(one_flight_overbooked)"
   ]
  },
  {
   "cell_type": "markdown",
   "metadata": {},
   "source": [
    "## Exercise 5\n",
    "You have three bags that each contain 100 marbles:\n",
    "\n",
    "- Bag 1 has 75 red and 25 blue marbles;\n",
    "- Bag 2 has 60 red and 40 blue marbles;\n",
    "- Bag 3 has 45 red and 55 blue marbles.\n",
    "\n",
    "You choose one of the bags at random and then pick a marble from the chosen bag, also at random. \n",
    "\n",
    "What is the probability that the chosen marble is red?\n"
   ]
  },
  {
   "cell_type": "code",
   "execution_count": 32,
   "metadata": {},
   "outputs": [
    {
     "data": {
      "text/plain": [
       "0.6"
      ]
     },
     "execution_count": 32,
     "metadata": {},
     "output_type": "execute_result"
    }
   ],
   "source": [
    "bag1 = .75\n",
    "bag2 = .60\n",
    "bag3 = .45\n",
    "\n",
    "(bag1 * 1/3) + (bag2 * 1/3) + (bag3 * 1/3)\n",
    "\n",
    "# I'm adding them because each bag is a mutually exclusive choice\n",
    "\n",
    "# I'm adding the chance of picking a red marble given bag1, plus\n",
    "# the chance of picking a red marble given bag2, plus\n",
    "# the chance of picking a red marble given bag3."
   ]
  },
  {
   "cell_type": "markdown",
   "metadata": {},
   "source": [
    "## Summary \n",
    "\n",
    "In this lab, you practiced conditional probability and its theorem with some simple problems. The key takeaway from this lab is to be able to identify random events as dependent or independent and calculating the probability of their occurrence using appropriate methods. Next, you'll take this knowledge a step further and run simulations with conditional and total probability. "
   ]
  }
 ],
 "metadata": {
  "kernelspec": {
   "display_name": "learn-env",
   "language": "python",
   "name": "learn-env"
  },
  "language_info": {
   "codemirror_mode": {
    "name": "ipython",
    "version": 3
   },
   "file_extension": ".py",
   "mimetype": "text/x-python",
   "name": "python",
   "nbconvert_exporter": "python",
   "pygments_lexer": "ipython3",
   "version": "3.6.6"
  },
  "toc": {
   "base_numbering": 1,
   "nav_menu": {},
   "number_sections": true,
   "sideBar": true,
   "skip_h1_title": false,
   "title_cell": "Table of Contents",
   "title_sidebar": "Contents",
   "toc_cell": false,
   "toc_position": {},
   "toc_section_display": true,
   "toc_window_display": false
  }
 },
 "nbformat": 4,
 "nbformat_minor": 2
}
